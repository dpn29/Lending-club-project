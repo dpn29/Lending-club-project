{
  "nbformat": 4,
  "nbformat_minor": 0,
  "metadata": {
    "kernelspec": {
      "display_name": "Python 3",
      "language": "python",
      "name": "python3"
    },
    "language_info": {
      "codemirror_mode": {
        "name": "ipython",
        "version": 3
      },
      "file_extension": ".py",
      "mimetype": "text/x-python",
      "name": "python",
      "nbconvert_exporter": "python",
      "pygments_lexer": "ipython3",
      "version": "3.7.7"
    },
    "colab": {
      "name": "Lending project.ipynb",
      "provenance": [],
      "collapsed_sections": []
    }
  },
  "cells": [
    {
      "cell_type": "code",
      "metadata": {
        "id": "dtMnfISfyUr4",
        "colab_type": "code",
        "colab": {
          "base_uri": "https://localhost:8080/",
          "height": 72
        },
        "outputId": "64bf4a4d-e5c1-47d9-efee-c88f337db9e3"
      },
      "source": [
        "import pandas as pd\n",
        "import numpy as np\n",
        "import matplotlib.pyplot as plt\n",
        "import seaborn as sns\n",
        "%matplotlib inline"
      ],
      "execution_count": 1,
      "outputs": [
        {
          "output_type": "stream",
          "text": [
            "/usr/local/lib/python3.6/dist-packages/statsmodels/tools/_testing.py:19: FutureWarning: pandas.util.testing is deprecated. Use the functions in the public API at pandas.testing instead.\n",
            "  import pandas.util.testing as tm\n"
          ],
          "name": "stderr"
        }
      ]
    },
    {
      "cell_type": "code",
      "metadata": {
        "id": "91tWAlpsyUr-",
        "colab_type": "code",
        "colab": {}
      },
      "source": [
        "data_info = pd.read_csv('https://raw.githubusercontent.com/dpn29/Lending-club-project/master/lending_club_info.csv',\n",
        "                        index_col='LoanStatNew')\n",
        "def feat_info(col_name):\n",
        "    print(data_info.loc[col_name]['Description'])"
      ],
      "execution_count": 2,
      "outputs": []
    },
    {
      "cell_type": "code",
      "metadata": {
        "id": "28sVi1DfyUsC",
        "colab_type": "code",
        "colab": {
          "base_uri": "https://localhost:8080/",
          "height": 607
        },
        "outputId": "56903250-9107-47e8-da84-d35829addc41"
      },
      "source": [
        "urls = ['https://raw.githubusercontent.com/dpn29/Lending-club-project/master/data'+str(i)+'.csv' for i in range(5)]\n",
        "df = pd.read_csv(urls[0])\n",
        "for i in range(1,5):\n",
        "  df = pd.concat([df, pd.read_csv(urls[i])],ignore_index=True)\n",
        "df = df.drop('Unnamed: 0',axis=1)\n",
        "df.info()"
      ],
      "execution_count": 3,
      "outputs": [
        {
          "output_type": "stream",
          "text": [
            "<class 'pandas.core.frame.DataFrame'>\n",
            "RangeIndex: 396030 entries, 0 to 396029\n",
            "Data columns (total 27 columns):\n",
            " #   Column                Non-Null Count   Dtype  \n",
            "---  ------                --------------   -----  \n",
            " 0   loan_amnt             396030 non-null  float64\n",
            " 1   term                  396030 non-null  object \n",
            " 2   int_rate              396030 non-null  float64\n",
            " 3   installment           396030 non-null  float64\n",
            " 4   grade                 396030 non-null  object \n",
            " 5   sub_grade             396030 non-null  object \n",
            " 6   emp_title             373103 non-null  object \n",
            " 7   emp_length            377729 non-null  object \n",
            " 8   home_ownership        396030 non-null  object \n",
            " 9   annual_inc            396030 non-null  float64\n",
            " 10  verification_status   396030 non-null  object \n",
            " 11  issue_d               396030 non-null  object \n",
            " 12  loan_status           396030 non-null  object \n",
            " 13  purpose               396030 non-null  object \n",
            " 14  title                 394275 non-null  object \n",
            " 15  dti                   396030 non-null  float64\n",
            " 16  earliest_cr_line      396030 non-null  object \n",
            " 17  open_acc              396030 non-null  float64\n",
            " 18  pub_rec               396030 non-null  float64\n",
            " 19  revol_bal             396030 non-null  float64\n",
            " 20  revol_util            395754 non-null  float64\n",
            " 21  total_acc             396030 non-null  float64\n",
            " 22  initial_list_status   396030 non-null  object \n",
            " 23  application_type      396030 non-null  object \n",
            " 24  mort_acc              358235 non-null  float64\n",
            " 25  pub_rec_bankruptcies  395495 non-null  float64\n",
            " 26  address               396030 non-null  object \n",
            "dtypes: float64(12), object(15)\n",
            "memory usage: 81.6+ MB\n"
          ],
          "name": "stdout"
        }
      ]
    },
    {
      "cell_type": "markdown",
      "metadata": {
        "id": "z1DHSg2pyUsG",
        "colab_type": "text"
      },
      "source": [
        "## Explanatory data analysis"
      ]
    },
    {
      "cell_type": "code",
      "metadata": {
        "id": "5UC0Gy8CyUsH",
        "colab_type": "code",
        "colab": {
          "base_uri": "https://localhost:8080/",
          "height": 297
        },
        "outputId": "052db544-e495-4cea-8c31-1e0fb9e0074f"
      },
      "source": [
        "sns.countplot(df['loan_status'])"
      ],
      "execution_count": 4,
      "outputs": [
        {
          "output_type": "execute_result",
          "data": {
            "text/plain": [
              "<matplotlib.axes._subplots.AxesSubplot at 0x7fd59a80bb38>"
            ]
          },
          "metadata": {
            "tags": []
          },
          "execution_count": 4
        },
        {
          "output_type": "display_data",
          "data": {
            "image/png": "[encoded data removed]",
            "text/plain": [
              "<Figure size 432x288 with 1 Axes>"
            ]
          },
          "metadata": {
            "tags": [],
            "needs_background": "light"
          }
        }
      ]
    },
    {
      "cell_type": "markdown",
      "metadata": {
        "id": "s7Dc39YRyUsK",
        "colab_type": "text"
      },
      "source": [
        "We have unbalanced classes."
      ]
    },
    {
      "cell_type": "code",
      "metadata": {
        "id": "zVqUaUMQyUsL",
        "colab_type": "code",
        "colab": {
          "base_uri": "https://localhost:8080/",
          "height": 713
        },
        "outputId": "1b9a396f-1234-4d43-be7b-5ce564ce7cae"
      },
      "source": [
        "plt.figure(figsize=(12,10))\n",
        "sns.heatmap(df.corr(),annot=True,cmap='coolwarm')"
      ],
      "execution_count": 5,
      "outputs": [
        {
          "output_type": "execute_result",
          "data": {
            "text/plain": [
              "<matplotlib.axes._subplots.AxesSubplot at 0x7fd596786550>"
            ]
          },
          "metadata": {
            "tags": []
          },
          "execution_count": 5
        },
        {
          "output_type": "display_data",
          "data": {
            "image/png": "[encoded data removed]",
            "text/plain": [
              "<Figure size 864x720 with 2 Axes>"
            ]
          },
          "metadata": {
            "tags": [],
            "needs_background": "light"
          }
        }
      ]
    },
    {
      "cell_type": "code",
      "metadata": {
        "id": "WAhqEz3TyUsO",
        "colab_type": "code",
        "colab": {
          "base_uri": "https://localhost:8080/",
          "height": 107
        },
        "outputId": "a3140dae-70ad-40c8-f1ee-f276a94da45d"
      },
      "source": [
        "feat_info('installment')\n",
        "print('\\n')\n",
        "feat_info('loan_amnt')"
      ],
      "execution_count": 6,
      "outputs": [
        {
          "output_type": "stream",
          "text": [
            "The monthly payment owed by the borrower if the loan originates.\n",
            "\n",
            "\n",
            "The listed amount of the loan applied for by the borrower. If at some point in time, the credit department reduces the loan amount, then it will be reflected in this value.\n"
          ],
          "name": "stdout"
        }
      ]
    },
    {
      "cell_type": "markdown",
      "metadata": {
        "id": "PA7WIZAEyUsR",
        "colab_type": "text"
      },
      "source": [
        "Seems like installment is calculated based on the loan amount (makes sense) but no duplicate data, so leave both columns in."
      ]
    },
    {
      "cell_type": "code",
      "metadata": {
        "id": "sjMttCOHyUsR",
        "colab_type": "code",
        "colab": {
          "base_uri": "https://localhost:8080/",
          "height": 72
        },
        "outputId": "9f4d6f24-b257-4796-9ac1-85aecaac1b62"
      },
      "source": [
        "print(sorted(list(df['grade'].unique())))\n",
        "print(sorted(list(df['sub_grade'].unique())))"
      ],
      "execution_count": 7,
      "outputs": [
        {
          "output_type": "stream",
          "text": [
            "['A', 'B', 'C', 'D', 'E', 'F', 'G']\n",
            "['A1', 'A2', 'A3', 'A4', 'A5', 'B1', 'B2', 'B3', 'B4', 'B5', 'C1', 'C2', 'C3', 'C4', 'C5', 'D1', 'D2', 'D3', 'D4', 'D5', 'E1', 'E2', 'E3', 'E4', 'E5', 'F1', 'F2', 'F3', 'F4', 'F5', 'G1', 'G2', 'G3', 'G4', 'G5']\n"
          ],
          "name": "stdout"
        }
      ]
    },
    {
      "cell_type": "markdown",
      "metadata": {
        "id": "m0jbmEy-yUsV",
        "colab_type": "text"
      },
      "source": [
        "The subgrade contains the grade, so drop grade."
      ]
    },
    {
      "cell_type": "code",
      "metadata": {
        "id": "sBuW7vBkyUsV",
        "colab_type": "code",
        "colab": {}
      },
      "source": [
        "df = df.drop('grade',axis=1)"
      ],
      "execution_count": 8,
      "outputs": []
    },
    {
      "cell_type": "code",
      "metadata": {
        "id": "7ZfmTrCCyUsY",
        "colab_type": "code",
        "colab": {
          "base_uri": "https://localhost:8080/",
          "height": 297
        },
        "outputId": "2e8fce0d-c9f2-483b-b909-7e1a8382b6d3"
      },
      "source": [
        "plt.figure(figsize=(12,4))\n",
        "sns.countplot(x='sub_grade',data=df,hue='loan_status',order=sorted(list(df['sub_grade'].unique())),palette='coolwarm')"
      ],
      "execution_count": 9,
      "outputs": [
        {
          "output_type": "execute_result",
          "data": {
            "text/plain": [
              "<matplotlib.axes._subplots.AxesSubplot at 0x7fd5926c4320>"
            ]
          },
          "metadata": {
            "tags": []
          },
          "execution_count": 9
        },
        {
          "output_type": "display_data",
          "data": {
            "image/png": "[encoded data removed]",
            "text/plain": [
              "<Figure size 864x288 with 1 Axes>"
            ]
          },
          "metadata": {
            "tags": [],
            "needs_background": "light"
          }
        }
      ]
    },
    {
      "cell_type": "markdown",
      "metadata": {
        "id": "XNWWFXloyUsc",
        "colab_type": "text"
      },
      "source": [
        "Seems like the loan grade is a useful predictor, will turn into numerical variables."
      ]
    },
    {
      "cell_type": "markdown",
      "metadata": {
        "id": "-JjjSR5PyUsd",
        "colab_type": "text"
      },
      "source": [
        "Turn the target column to numerical."
      ]
    },
    {
      "cell_type": "code",
      "metadata": {
        "id": "n9IAaCmZyUsd",
        "colab_type": "code",
        "colab": {}
      },
      "source": [
        "df['loan_repaid'] = df['loan_status'].apply(lambda x: 1 if x=='Fully Paid' else 0)"
      ],
      "execution_count": 10,
      "outputs": []
    },
    {
      "cell_type": "code",
      "metadata": {
        "id": "k0Y3W_mpyUsg",
        "colab_type": "code",
        "colab": {
          "base_uri": "https://localhost:8080/",
          "height": 383
        },
        "outputId": "7bce2f64-f8ff-454c-9dc5-b61eb55e83cb"
      },
      "source": [
        "df.corr()['loan_repaid'][:-1].sort_values().plot.bar()"
      ],
      "execution_count": 11,
      "outputs": [
        {
          "output_type": "execute_result",
          "data": {
            "text/plain": [
              "<matplotlib.axes._subplots.AxesSubplot at 0x7fd590ca9588>"
            ]
          },
          "metadata": {
            "tags": []
          },
          "execution_count": 11
        },
        {
          "output_type": "display_data",
          "data": {
            "image/png": "[encoded data removed]",
            "text/plain": [
              "<Figure size 432x288 with 1 Axes>"
            ]
          },
          "metadata": {
            "tags": [],
            "needs_background": "light"
          }
        }
      ]
    },
    {
      "cell_type": "markdown",
      "metadata": {
        "id": "9tiSZPuCyUsk",
        "colab_type": "text"
      },
      "source": [
        "## Data preprocessing"
      ]
    },
    {
      "cell_type": "code",
      "metadata": {
        "id": "UDLKuaqdyUsk",
        "colab_type": "code",
        "colab": {
          "base_uri": "https://localhost:8080/",
          "height": 503
        },
        "outputId": "b73f14ad-869b-449e-e264-eb3318849a9b"
      },
      "source": [
        "df.isnull().sum()/df.shape[0]*100"
      ],
      "execution_count": 12,
      "outputs": [
        {
          "output_type": "execute_result",
          "data": {
            "text/plain": [
              "loan_amnt               0.000000\n",
              "term                    0.000000\n",
              "int_rate                0.000000\n",
              "installment             0.000000\n",
              "sub_grade               0.000000\n",
              "emp_title               5.789208\n",
              "emp_length              4.621115\n",
              "home_ownership          0.000000\n",
              "annual_inc              0.000000\n",
              "verification_status     0.000000\n",
              "issue_d                 0.000000\n",
              "loan_status             0.000000\n",
              "purpose                 0.000000\n",
              "title                   0.443148\n",
              "dti                     0.000000\n",
              "earliest_cr_line        0.000000\n",
              "open_acc                0.000000\n",
              "pub_rec                 0.000000\n",
              "revol_bal               0.000000\n",
              "revol_util              0.069692\n",
              "total_acc               0.000000\n",
              "initial_list_status     0.000000\n",
              "application_type        0.000000\n",
              "mort_acc                9.543469\n",
              "pub_rec_bankruptcies    0.135091\n",
              "address                 0.000000\n",
              "loan_repaid             0.000000\n",
              "dtype: float64"
            ]
          },
          "metadata": {
            "tags": []
          },
          "execution_count": 12
        }
      ]
    },
    {
      "cell_type": "markdown",
      "metadata": {
        "id": "ypqzlizayUsn",
        "colab_type": "text"
      },
      "source": [
        "Some missing data issues but not terrible. Let's proceed from top to bottom."
      ]
    },
    {
      "cell_type": "code",
      "metadata": {
        "id": "xYL9h3DmyUsn",
        "colab_type": "code",
        "colab": {
          "base_uri": "https://localhost:8080/",
          "height": 225
        },
        "outputId": "1999e398-c14b-40dd-d329-d27ab90b5e63"
      },
      "source": [
        "df['emp_title'].value_counts()"
      ],
      "execution_count": 13,
      "outputs": [
        {
          "output_type": "execute_result",
          "data": {
            "text/plain": [
              "Teacher                            4389\n",
              "Manager                            4250\n",
              "Registered Nurse                   1856\n",
              "RN                                 1846\n",
              "Supervisor                         1830\n",
              "                                   ... \n",
              "Manufacturing/ Quality Engineer       1\n",
              "Hudgins Family Properties LLC         1\n",
              "Business software specialist          1\n",
              "Greenstein & Associates               1\n",
              "Kitsap Mental Health                  1\n",
              "Name: emp_title, Length: 173105, dtype: int64"
            ]
          },
          "metadata": {
            "tags": []
          },
          "execution_count": 13
        }
      ]
    },
    {
      "cell_type": "markdown",
      "metadata": {
        "id": "ghjV8YNpyUsq",
        "colab_type": "text"
      },
      "source": [
        "Too many unique values and missing for almost 6% of observations. Drop this column."
      ]
    },
    {
      "cell_type": "code",
      "metadata": {
        "id": "Ar1lnwOnyUsq",
        "colab_type": "code",
        "colab": {}
      },
      "source": [
        "df = df.drop('emp_title',axis=1)"
      ],
      "execution_count": 14,
      "outputs": []
    },
    {
      "cell_type": "code",
      "metadata": {
        "id": "Qemcfmi7yUst",
        "colab_type": "code",
        "colab": {
          "base_uri": "https://localhost:8080/",
          "height": 225
        },
        "outputId": "891bf197-35fe-41f9-c6dd-5aa95e9886f2"
      },
      "source": [
        "df['emp_length'].value_counts()"
      ],
      "execution_count": 15,
      "outputs": [
        {
          "output_type": "execute_result",
          "data": {
            "text/plain": [
              "10+ years    126041\n",
              "2 years       35827\n",
              "< 1 year      31725\n",
              "3 years       31665\n",
              "5 years       26495\n",
              "1 year        25882\n",
              "4 years       23952\n",
              "6 years       20841\n",
              "7 years       20819\n",
              "8 years       19168\n",
              "9 years       15314\n",
              "Name: emp_length, dtype: int64"
            ]
          },
          "metadata": {
            "tags": []
          },
          "execution_count": 15
        }
      ]
    },
    {
      "cell_type": "code",
      "metadata": {
        "id": "EVxtRW6ayUsw",
        "colab_type": "code",
        "colab": {}
      },
      "source": [
        "default_prob_per_emp_lenth = df[df['loan_repaid']==0].groupby('emp_length')['loan_status'].count() / df.groupby('emp_length')['loan_status'].count()"
      ],
      "execution_count": 16,
      "outputs": []
    },
    {
      "cell_type": "code",
      "metadata": {
        "id": "_VaSwGC8yUsz",
        "colab_type": "code",
        "colab": {
          "base_uri": "https://localhost:8080/",
          "height": 339
        },
        "outputId": "6ea4d9df-daaf-4093-b253-d8d5bda006c6"
      },
      "source": [
        "default_prob_per_emp_lenth.sort_values().plot.bar()"
      ],
      "execution_count": 17,
      "outputs": [
        {
          "output_type": "execute_result",
          "data": {
            "text/plain": [
              "<matplotlib.axes._subplots.AxesSubplot at 0x7fd5969ad898>"
            ]
          },
          "metadata": {
            "tags": []
          },
          "execution_count": 17
        },
        {
          "output_type": "display_data",
          "data": {
            "image/png": "[encoded data removed]",
            "text/plain": [
              "<Figure size 432x288 with 1 Axes>"
            ]
          },
          "metadata": {
            "tags": [],
            "needs_background": "light"
          }
        }
      ]
    },
    {
      "cell_type": "markdown",
      "metadata": {
        "id": "H6zX9tXqyUs2",
        "colab_type": "text"
      },
      "source": [
        "Having 10+ years of employment and having <1 year seem to contain useful information while durations inbetween seem randomly ordered. Encode this variable with 3 dummies (to also indicate if the data was missing)."
      ]
    },
    {
      "cell_type": "code",
      "metadata": {
        "id": "m0fm6XsfyUs2",
        "colab_type": "code",
        "colab": {
          "base_uri": "https://localhost:8080/",
          "height": 355
        },
        "outputId": "ef33afa9-4ad8-4567-c6a4-b8ba966563bd"
      },
      "source": [
        "df['nan_emp'] = df['emp_length'].isnull().apply(int)\n",
        "df['long_emp'] = df['emp_length'].apply(lambda x: 1 if x=='10+ years' else 0)\n",
        "df['short_emp'] = df['emp_length'].apply(lambda x: 1 if x=='< 1 year' else 0)\n",
        "df[['emp_length','long_emp','short_emp','nan_emp']].head(10)"
      ],
      "execution_count": 18,
      "outputs": [
        {
          "output_type": "execute_result",
          "data": {
            "text/html": [
              "<div>\n",
              "<style scoped>\n",
              "    .dataframe tbody tr th:only-of-type {\n",
              "        vertical-align: middle;\n",
              "    }\n",
              "\n",
              "    .dataframe tbody tr th {\n",
              "        vertical-align: top;\n",
              "    }\n",
              "\n",
              "    .dataframe thead th {\n",
              "        text-align: right;\n",
              "    }\n",
              "</style>\n",
              "<table border=\"1\" class=\"dataframe\">\n",
              "  <thead>\n",
              "    <tr style=\"text-align: right;\">\n",
              "      <th></th>\n",
              "      <th>emp_length</th>\n",
              "      <th>long_emp</th>\n",
              "      <th>short_emp</th>\n",
              "      <th>nan_emp</th>\n",
              "    </tr>\n",
              "  </thead>\n",
              "  <tbody>\n",
              "    <tr>\n",
              "      <th>0</th>\n",
              "      <td>2 years</td>\n",
              "      <td>0</td>\n",
              "      <td>0</td>\n",
              "      <td>0</td>\n",
              "    </tr>\n",
              "    <tr>\n",
              "      <th>1</th>\n",
              "      <td>5 years</td>\n",
              "      <td>0</td>\n",
              "      <td>0</td>\n",
              "      <td>0</td>\n",
              "    </tr>\n",
              "    <tr>\n",
              "      <th>2</th>\n",
              "      <td>3 years</td>\n",
              "      <td>0</td>\n",
              "      <td>0</td>\n",
              "      <td>0</td>\n",
              "    </tr>\n",
              "    <tr>\n",
              "      <th>3</th>\n",
              "      <td>3 years</td>\n",
              "      <td>0</td>\n",
              "      <td>0</td>\n",
              "      <td>0</td>\n",
              "    </tr>\n",
              "    <tr>\n",
              "      <th>4</th>\n",
              "      <td>6 years</td>\n",
              "      <td>0</td>\n",
              "      <td>0</td>\n",
              "      <td>0</td>\n",
              "    </tr>\n",
              "    <tr>\n",
              "      <th>5</th>\n",
              "      <td>7 years</td>\n",
              "      <td>0</td>\n",
              "      <td>0</td>\n",
              "      <td>0</td>\n",
              "    </tr>\n",
              "    <tr>\n",
              "      <th>6</th>\n",
              "      <td>&lt; 1 year</td>\n",
              "      <td>0</td>\n",
              "      <td>1</td>\n",
              "      <td>0</td>\n",
              "    </tr>\n",
              "    <tr>\n",
              "      <th>7</th>\n",
              "      <td>10+ years</td>\n",
              "      <td>1</td>\n",
              "      <td>0</td>\n",
              "      <td>0</td>\n",
              "    </tr>\n",
              "    <tr>\n",
              "      <th>8</th>\n",
              "      <td>1 year</td>\n",
              "      <td>0</td>\n",
              "      <td>0</td>\n",
              "      <td>0</td>\n",
              "    </tr>\n",
              "    <tr>\n",
              "      <th>9</th>\n",
              "      <td>3 years</td>\n",
              "      <td>0</td>\n",
              "      <td>0</td>\n",
              "      <td>0</td>\n",
              "    </tr>\n",
              "  </tbody>\n",
              "</table>\n",
              "</div>"
            ],
            "text/plain": [
              "  emp_length  long_emp  short_emp  nan_emp\n",
              "0    2 years         0          0        0\n",
              "1    5 years         0          0        0\n",
              "2    3 years         0          0        0\n",
              "3    3 years         0          0        0\n",
              "4    6 years         0          0        0\n",
              "5    7 years         0          0        0\n",
              "6   < 1 year         0          1        0\n",
              "7  10+ years         1          0        0\n",
              "8     1 year         0          0        0\n",
              "9    3 years         0          0        0"
            ]
          },
          "metadata": {
            "tags": []
          },
          "execution_count": 18
        }
      ]
    },
    {
      "cell_type": "code",
      "metadata": {
        "id": "hVzCmeyTyUs6",
        "colab_type": "code",
        "colab": {}
      },
      "source": [
        "df = df.drop('emp_length',axis=1)"
      ],
      "execution_count": 19,
      "outputs": []
    },
    {
      "cell_type": "code",
      "metadata": {
        "id": "SZ359Cv7yUs9",
        "colab_type": "code",
        "colab": {
          "base_uri": "https://localhost:8080/",
          "height": 225
        },
        "outputId": "2ea1d01e-dc1d-40a2-bec8-5374e7799467"
      },
      "source": [
        "df['title'].value_counts()"
      ],
      "execution_count": 20,
      "outputs": [
        {
          "output_type": "execute_result",
          "data": {
            "text/plain": [
              "Debt consolidation         152472\n",
              "Credit card refinancing     51487\n",
              "Home improvement            15264\n",
              "Other                       12930\n",
              "Debt Consolidation          11608\n",
              "                            ...  \n",
              "Persona Loan #2                 1\n",
              "jmls                            1\n",
              "Pay off, be DONE                1\n",
              "window coverings                1\n",
              "get out of card debt            1\n",
              "Name: title, Length: 48817, dtype: int64"
            ]
          },
          "metadata": {
            "tags": []
          },
          "execution_count": 20
        }
      ]
    },
    {
      "cell_type": "code",
      "metadata": {
        "id": "V0XKaVYmyUtA",
        "colab_type": "code",
        "colab": {
          "base_uri": "https://localhost:8080/",
          "height": 35
        },
        "outputId": "5001877d-cc0d-4d44-b117-ea3661823bd7"
      },
      "source": [
        "feat_info('title')"
      ],
      "execution_count": 21,
      "outputs": [
        {
          "output_type": "stream",
          "text": [
            "The loan title provided by the borrower\n"
          ],
          "name": "stdout"
        }
      ]
    },
    {
      "cell_type": "markdown",
      "metadata": {
        "id": "vh1Lcma3yUtD",
        "colab_type": "text"
      },
      "source": [
        "Likely to contain useful info but needs domain experience or NLP to encode; just drop it now."
      ]
    },
    {
      "cell_type": "code",
      "metadata": {
        "id": "cqXUcmv0yUtE",
        "colab_type": "code",
        "colab": {}
      },
      "source": [
        "df = df.drop('title',axis=1)"
      ],
      "execution_count": 22,
      "outputs": []
    },
    {
      "cell_type": "code",
      "metadata": {
        "id": "HJL6FiiAyUtH",
        "colab_type": "code",
        "colab": {
          "base_uri": "https://localhost:8080/",
          "height": 607
        },
        "outputId": "36e5590f-fea3-47b0-ecee-eac0ffc63302"
      },
      "source": [
        "df['mort_acc'].value_counts()"
      ],
      "execution_count": 23,
      "outputs": [
        {
          "output_type": "execute_result",
          "data": {
            "text/plain": [
              "0.0     139777\n",
              "1.0      60416\n",
              "2.0      49948\n",
              "3.0      38049\n",
              "4.0      27887\n",
              "5.0      18194\n",
              "6.0      11069\n",
              "7.0       6052\n",
              "8.0       3121\n",
              "9.0       1656\n",
              "10.0       865\n",
              "11.0       479\n",
              "12.0       264\n",
              "13.0       146\n",
              "14.0       107\n",
              "15.0        61\n",
              "16.0        37\n",
              "17.0        22\n",
              "18.0        18\n",
              "19.0        15\n",
              "20.0        13\n",
              "24.0        10\n",
              "22.0         7\n",
              "25.0         4\n",
              "21.0         4\n",
              "27.0         3\n",
              "26.0         2\n",
              "23.0         2\n",
              "32.0         2\n",
              "31.0         2\n",
              "30.0         1\n",
              "34.0         1\n",
              "28.0         1\n",
              "Name: mort_acc, dtype: int64"
            ]
          },
          "metadata": {
            "tags": []
          },
          "execution_count": 23
        }
      ]
    },
    {
      "cell_type": "code",
      "metadata": {
        "id": "uPNyuoglyUtL",
        "colab_type": "code",
        "colab": {
          "base_uri": "https://localhost:8080/",
          "height": 35
        },
        "outputId": "a0dc44b2-6f83-4bc6-a5c6-4ed41f16babd"
      },
      "source": [
        "feat_info('mort_acc')"
      ],
      "execution_count": 24,
      "outputs": [
        {
          "output_type": "stream",
          "text": [
            "Number of mortgage accounts.\n"
          ],
          "name": "stdout"
        }
      ]
    },
    {
      "cell_type": "code",
      "metadata": {
        "id": "EgiNNq6LyUtO",
        "colab_type": "code",
        "colab": {
          "base_uri": "https://localhost:8080/",
          "height": 312
        },
        "outputId": "a26686fc-b5b1-41d1-d0d7-07375c1e6240"
      },
      "source": [
        "df.corr()['mort_acc'].sort_values()"
      ],
      "execution_count": 25,
      "outputs": [
        {
          "output_type": "execute_result",
          "data": {
            "text/plain": [
              "int_rate               -0.082583\n",
              "short_emp              -0.067058\n",
              "dti                    -0.025439\n",
              "revol_util              0.007514\n",
              "pub_rec                 0.011552\n",
              "nan_emp                 0.017617\n",
              "pub_rec_bankruptcies    0.027239\n",
              "loan_repaid             0.073111\n",
              "open_acc                0.109205\n",
              "installment             0.193694\n",
              "revol_bal               0.194925\n",
              "long_emp                0.196780\n",
              "loan_amnt               0.222315\n",
              "annual_inc              0.236320\n",
              "total_acc               0.381072\n",
              "mort_acc                1.000000\n",
              "Name: mort_acc, dtype: float64"
            ]
          },
          "metadata": {
            "tags": []
          },
          "execution_count": 25
        }
      ]
    },
    {
      "cell_type": "code",
      "metadata": {
        "id": "akjLmx-kyUtS",
        "colab_type": "code",
        "colab": {
          "base_uri": "https://localhost:8080/",
          "height": 35
        },
        "outputId": "a7c1e839-b6fe-4373-c472-f1382b87cacc"
      },
      "source": [
        "feat_info('total_acc')"
      ],
      "execution_count": 26,
      "outputs": [
        {
          "output_type": "stream",
          "text": [
            "The total number of credit lines currently in the borrower's credit file\n"
          ],
          "name": "stdout"
        }
      ]
    },
    {
      "cell_type": "markdown",
      "metadata": {
        "id": "hIvd2A53yUtV",
        "colab_type": "text"
      },
      "source": [
        "Let's impute mort_acc based on total_acc. total_acc is never missing."
      ]
    },
    {
      "cell_type": "code",
      "metadata": {
        "id": "O2xiO0R5yUtV",
        "colab_type": "code",
        "colab": {}
      },
      "source": [
        "mort_from_total = df.groupby('total_acc')['mort_acc'].mean()\n",
        "mort_acc = list(df['mort_acc'].isnull())\n",
        "for i in range(df.shape[0]):\n",
        "    if mort_acc[i]:\n",
        "        mort_acc[i] = mort_from_total[df['total_acc'][i]]\n",
        "    else:\n",
        "        mort_acc[i] = df['mort_acc'][i]\n",
        "df['mort_acc'] = mort_acc"
      ],
      "execution_count": 27,
      "outputs": []
    },
    {
      "cell_type": "markdown",
      "metadata": {
        "id": "FEXXl1B1yUtY",
        "colab_type": "text"
      },
      "source": [
        "revol_util and the pub_rec_bankruptcies have missing data points, but they account for less than 0.2% of the total data, so just drop the rows with missing data."
      ]
    },
    {
      "cell_type": "code",
      "metadata": {
        "id": "KIo6yZG0yUtY",
        "colab_type": "code",
        "colab": {}
      },
      "source": [
        "df = df.dropna(axis=0)"
      ],
      "execution_count": 28,
      "outputs": []
    },
    {
      "cell_type": "code",
      "metadata": {
        "id": "mNMPD6M-yUtc",
        "colab_type": "code",
        "colab": {
          "base_uri": "https://localhost:8080/",
          "height": 520
        },
        "outputId": "620b7bfa-7abf-4afc-ba07-1335e7603105"
      },
      "source": [
        "print(df.shape[0])\n",
        "df.isnull().sum()"
      ],
      "execution_count": 29,
      "outputs": [
        {
          "output_type": "stream",
          "text": [
            "395219\n"
          ],
          "name": "stdout"
        },
        {
          "output_type": "execute_result",
          "data": {
            "text/plain": [
              "loan_amnt               0\n",
              "term                    0\n",
              "int_rate                0\n",
              "installment             0\n",
              "sub_grade               0\n",
              "home_ownership          0\n",
              "annual_inc              0\n",
              "verification_status     0\n",
              "issue_d                 0\n",
              "loan_status             0\n",
              "purpose                 0\n",
              "dti                     0\n",
              "earliest_cr_line        0\n",
              "open_acc                0\n",
              "pub_rec                 0\n",
              "revol_bal               0\n",
              "revol_util              0\n",
              "total_acc               0\n",
              "initial_list_status     0\n",
              "application_type        0\n",
              "mort_acc                0\n",
              "pub_rec_bankruptcies    0\n",
              "address                 0\n",
              "loan_repaid             0\n",
              "nan_emp                 0\n",
              "long_emp                0\n",
              "short_emp               0\n",
              "dtype: int64"
            ]
          },
          "metadata": {
            "tags": []
          },
          "execution_count": 29
        }
      ]
    },
    {
      "cell_type": "markdown",
      "metadata": {
        "id": "CBXek9AfyUtf",
        "colab_type": "text"
      },
      "source": [
        "Turn to dealing with non-numeric features."
      ]
    },
    {
      "cell_type": "code",
      "metadata": {
        "id": "NEZtdBXxyUtf",
        "colab_type": "code",
        "colab": {
          "base_uri": "https://localhost:8080/",
          "height": 87
        },
        "outputId": "5ae03873-91b5-4811-f9b5-cdf961eae31c"
      },
      "source": [
        "df.select_dtypes(include=object).columns"
      ],
      "execution_count": 30,
      "outputs": [
        {
          "output_type": "execute_result",
          "data": {
            "text/plain": [
              "Index(['term', 'sub_grade', 'home_ownership', 'verification_status', 'issue_d',\n",
              "       'loan_status', 'purpose', 'earliest_cr_line', 'initial_list_status',\n",
              "       'application_type', 'address'],\n",
              "      dtype='object')"
            ]
          },
          "metadata": {
            "tags": []
          },
          "execution_count": 30
        }
      ]
    },
    {
      "cell_type": "code",
      "metadata": {
        "id": "qL2BttdpyUti",
        "colab_type": "code",
        "colab": {
          "base_uri": "https://localhost:8080/",
          "height": 35
        },
        "outputId": "e6b6fc20-b250-41da-9242-d450352cffc1"
      },
      "source": [
        "df['term'].value_counts().index"
      ],
      "execution_count": 31,
      "outputs": [
        {
          "output_type": "execute_result",
          "data": {
            "text/plain": [
              "Index([' 36 months', ' 60 months'], dtype='object')"
            ]
          },
          "metadata": {
            "tags": []
          },
          "execution_count": 31
        }
      ]
    },
    {
      "cell_type": "code",
      "metadata": {
        "id": "rwGSzy4IyUtk",
        "colab_type": "code",
        "colab": {}
      },
      "source": [
        "df['term'] = df['term'].apply(lambda x: 36 if x==' 36 months' else 60)"
      ],
      "execution_count": 32,
      "outputs": []
    },
    {
      "cell_type": "code",
      "metadata": {
        "id": "OGANU2zsyUtm",
        "colab_type": "code",
        "colab": {
          "base_uri": "https://localhost:8080/",
          "height": 1000
        },
        "outputId": "cb49dfc7-f712-4e18-81a9-5eaae8e97b9c"
      },
      "source": [
        "feats = ['sub_grade','verification_status','application_type','initial_list_status','purpose']\n",
        "for feat in feats:\n",
        "    print(df[feat].value_counts())"
      ],
      "execution_count": 33,
      "outputs": [
        {
          "output_type": "stream",
          "text": [
            "B3    26611\n",
            "B4    25558\n",
            "C1    23609\n",
            "C2    22541\n",
            "B2    22457\n",
            "B5    22046\n",
            "C3    21178\n",
            "C4    20232\n",
            "B1    19140\n",
            "A5    18500\n",
            "C5    18215\n",
            "D1    15947\n",
            "A4    15763\n",
            "D2    13916\n",
            "D3    12196\n",
            "D4    11625\n",
            "A3    10537\n",
            "A1     9717\n",
            "D5     9680\n",
            "A2     9539\n",
            "E1     7906\n",
            "E2     7410\n",
            "E3     6196\n",
            "E4     5354\n",
            "E5     4561\n",
            "F1     3530\n",
            "F2     2756\n",
            "F3     2277\n",
            "F4     1782\n",
            "F5     1395\n",
            "G1     1057\n",
            "G2      752\n",
            "G3      552\n",
            "G4      371\n",
            "G5      313\n",
            "Name: sub_grade, dtype: int64\n",
            "Verified           139451\n",
            "Source Verified    131301\n",
            "Not Verified       124467\n",
            "Name: verification_status, dtype: int64\n",
            "INDIVIDUAL    394508\n",
            "JOINT            425\n",
            "DIRECT_PAY       286\n",
            "Name: application_type, dtype: int64\n",
            "f    237346\n",
            "w    157873\n",
            "Name: initial_list_status, dtype: int64\n",
            "debt_consolidation    234169\n",
            "credit_card            82923\n",
            "home_improvement       23961\n",
            "other                  21059\n",
            "major_purchase          8756\n",
            "small_business          5656\n",
            "car                     4670\n",
            "medical                 4175\n",
            "moving                  2842\n",
            "vacation                2442\n",
            "house                   2197\n",
            "wedding                 1794\n",
            "renewable_energy         329\n",
            "educational              246\n",
            "Name: purpose, dtype: int64\n"
          ],
          "name": "stdout"
        }
      ]
    },
    {
      "cell_type": "markdown",
      "metadata": {
        "id": "BBq--UFvyUto",
        "colab_type": "text"
      },
      "source": [
        "These features look worthwhile to turn into dummy variables."
      ]
    },
    {
      "cell_type": "code",
      "metadata": {
        "id": "aZGmM20-yUtp",
        "colab_type": "code",
        "colab": {
          "base_uri": "https://localhost:8080/",
          "height": 225
        },
        "outputId": "4efe06e5-c9a5-4edd-f90d-1a6f1c664803"
      },
      "source": [
        "for feat in feats:\n",
        "    df = pd.concat([df.drop(feat,axis=1),pd.get_dummies(df[feat],drop_first=True)],axis=1)\n",
        "df.columns"
      ],
      "execution_count": 34,
      "outputs": [
        {
          "output_type": "execute_result",
          "data": {
            "text/plain": [
              "Index(['loan_amnt', 'term', 'int_rate', 'installment', 'home_ownership',\n",
              "       'annual_inc', 'issue_d', 'loan_status', 'dti', 'earliest_cr_line',\n",
              "       'open_acc', 'pub_rec', 'revol_bal', 'revol_util', 'total_acc',\n",
              "       'mort_acc', 'pub_rec_bankruptcies', 'address', 'loan_repaid', 'nan_emp',\n",
              "       'long_emp', 'short_emp', 'A2', 'A3', 'A4', 'A5', 'B1', 'B2', 'B3', 'B4',\n",
              "       'B5', 'C1', 'C2', 'C3', 'C4', 'C5', 'D1', 'D2', 'D3', 'D4', 'D5', 'E1',\n",
              "       'E2', 'E3', 'E4', 'E5', 'F1', 'F2', 'F3', 'F4', 'F5', 'G1', 'G2', 'G3',\n",
              "       'G4', 'G5', 'Source Verified', 'Verified', 'INDIVIDUAL', 'JOINT', 'w',\n",
              "       'credit_card', 'debt_consolidation', 'educational', 'home_improvement',\n",
              "       'house', 'major_purchase', 'medical', 'moving', 'other',\n",
              "       'renewable_energy', 'small_business', 'vacation', 'wedding'],\n",
              "      dtype='object')"
            ]
          },
          "metadata": {
            "tags": []
          },
          "execution_count": 34
        }
      ]
    },
    {
      "cell_type": "code",
      "metadata": {
        "id": "iU4-FHEsyUts",
        "colab_type": "code",
        "colab": {
          "base_uri": "https://localhost:8080/",
          "height": 139
        },
        "outputId": "d180a865-26fc-4c04-d246-61fb2999c0ec"
      },
      "source": [
        "df['home_ownership'].value_counts()"
      ],
      "execution_count": 35,
      "outputs": [
        {
          "output_type": "execute_result",
          "data": {
            "text/plain": [
              "MORTGAGE    198022\n",
              "RENT        159395\n",
              "OWN          37660\n",
              "OTHER          110\n",
              "NONE            29\n",
              "ANY              3\n",
              "Name: home_ownership, dtype: int64"
            ]
          },
          "metadata": {
            "tags": []
          },
          "execution_count": 35
        }
      ]
    },
    {
      "cell_type": "markdown",
      "metadata": {
        "id": "fcijgrUHyUtv",
        "colab_type": "text"
      },
      "source": [
        "Too few observations in the NONE and ANY categories, hard to interpret anyways. Lump there under OTHER"
      ]
    },
    {
      "cell_type": "code",
      "metadata": {
        "id": "6YEj1S7HyUtv",
        "colab_type": "code",
        "colab": {}
      },
      "source": [
        "df['home_ownership'] = df['home_ownership'].apply(lambda x: x if x in ['MORTGAGE','RENT','OWN'] else 'OTHER')\n",
        "df = pd.concat([df.drop('home_ownership',axis=1),pd.get_dummies(df['home_ownership'],drop_first=True)],axis=1)"
      ],
      "execution_count": 36,
      "outputs": []
    },
    {
      "cell_type": "code",
      "metadata": {
        "id": "1rif9YjGyUtx",
        "colab_type": "code",
        "colab": {
          "base_uri": "https://localhost:8080/",
          "height": 225
        },
        "outputId": "9dc0a385-46b3-403c-eec0-06e4b11b3fea"
      },
      "source": [
        "df['address']"
      ],
      "execution_count": 37,
      "outputs": [
        {
          "output_type": "execute_result",
          "data": {
            "text/plain": [
              "0         68264 Hamilton Harbors Apt. 149\\nSouth Karl, O...\n",
              "1                          PSC 1462, Box 1404\\nAPO AP 70466\n",
              "2              63177 Marc Orchard\\nPort Charlotte, NY 70466\n",
              "3         7027 Benjamin Freeway Suite 978\\nSouth Katheri...\n",
              "4         3182 Roach Island Suite 434\\nElizabethville, N...\n",
              "                                ...                        \n",
              "396025    5496 Elijah Locks Suite 248\\nJasonville, SD 70466\n",
              "396026    39275 Lara Ports Suite 055\\nSouth Terrichester...\n",
              "396027    8911 Miller Village Apt. 743\\nLake Amanda, FL ...\n",
              "396028       00038 James Square\\nPort Patrickside, RI 30723\n",
              "396029            39726 Ward Common\\nJameschester, AL 00813\n",
              "Name: address, Length: 395219, dtype: object"
            ]
          },
          "metadata": {
            "tags": []
          },
          "execution_count": 37
        }
      ]
    },
    {
      "cell_type": "markdown",
      "metadata": {
        "id": "9Qv4ccrWyUt1",
        "colab_type": "text"
      },
      "source": [
        "There are too many addresses, but we can use the zip codes!"
      ]
    },
    {
      "cell_type": "code",
      "metadata": {
        "id": "2Uk_JwwUyUt2",
        "colab_type": "code",
        "colab": {
          "base_uri": "https://localhost:8080/",
          "height": 225
        },
        "outputId": "40b475db-0fef-4c77-8eb7-4f1e65271208"
      },
      "source": [
        "df['zip_code'] = df['address'].apply(lambda x: x[-8:])\n",
        "df['zip_code'].value_counts()"
      ],
      "execution_count": 38,
      "outputs": [
        {
          "output_type": "execute_result",
          "data": {
            "text/plain": [
              "AP 70466    2162\n",
              "AE 22690    2103\n",
              "AP 22690    2087\n",
              "AE 48052    2023\n",
              "AA 22690    2015\n",
              "            ... \n",
              "NH 86630     167\n",
              "NC 93700     167\n",
              "NM 11650     166\n",
              "UT 86630     163\n",
              "ND 93700     158\n",
              "Name: zip_code, Length: 540, dtype: int64"
            ]
          },
          "metadata": {
            "tags": []
          },
          "execution_count": 38
        }
      ]
    },
    {
      "cell_type": "markdown",
      "metadata": {
        "id": "z6L0tyRqyUt7",
        "colab_type": "text"
      },
      "source": [
        "This requires 539 dummies, which is quite a lot but we also have a lot of data. But a meaningful amount of observation in each category. Makes dummies, but give them an identifiable name to train the model with and without these. Also make dummies for each state."
      ]
    },
    {
      "cell_type": "code",
      "metadata": {
        "id": "LsnSfTQfyUt8",
        "colab_type": "code",
        "colab": {
          "base_uri": "https://localhost:8080/",
          "height": 971
        },
        "outputId": "61363e0b-878c-4915-eb43-eea80a588fcc"
      },
      "source": [
        "df['state'] = df['zip_code'].apply(lambda x: x[:2])\n",
        "df['state'].value_counts()"
      ],
      "execution_count": 39,
      "outputs": [
        {
          "output_type": "execute_result",
          "data": {
            "text/plain": [
              "AP    14269\n",
              "AE    14124\n",
              "AA    13890\n",
              "NJ     7076\n",
              "WI     7066\n",
              "LA     7048\n",
              "AK     7026\n",
              "NV     7022\n",
              "MA     7014\n",
              "VA     7007\n",
              "VT     6991\n",
              "NY     6988\n",
              "MS     6986\n",
              "TX     6977\n",
              "OH     6965\n",
              "SC     6959\n",
              "AR     6958\n",
              "GA     6955\n",
              "ME     6953\n",
              "ID     6945\n",
              "IN     6942\n",
              "MO     6934\n",
              "KS     6934\n",
              "RI     6927\n",
              "WV     6925\n",
              "WY     6922\n",
              "IL     6921\n",
              "HI     6920\n",
              "NE     6914\n",
              "FL     6906\n",
              "CO     6900\n",
              "IA     6900\n",
              "OK     6900\n",
              "AZ     6897\n",
              "MN     6895\n",
              "CA     6889\n",
              "CT     6887\n",
              "AL     6886\n",
              "NC     6886\n",
              "OR     6885\n",
              "MD     6883\n",
              "WA     6877\n",
              "UT     6876\n",
              "SD     6872\n",
              "MT     6865\n",
              "DE     6861\n",
              "TN     6859\n",
              "ND     6846\n",
              "MI     6835\n",
              "DC     6829\n",
              "NM     6829\n",
              "PA     6815\n",
              "NH     6804\n",
              "KY     6779\n",
              "Name: state, dtype: int64"
            ]
          },
          "metadata": {
            "tags": []
          },
          "execution_count": 39
        }
      ]
    },
    {
      "cell_type": "markdown",
      "metadata": {
        "id": "cdlkS0qjyUt_",
        "colab_type": "text"
      },
      "source": [
        "(The three military mail codes are far more common than any state.)"
      ]
    },
    {
      "cell_type": "code",
      "metadata": {
        "id": "r5y9ryO0yUt_",
        "colab_type": "code",
        "colab": {}
      },
      "source": [
        "df = pd.concat([df.drop(['zip_code','address','state'],axis=1),\n",
        "                pd.get_dummies(df['zip_code'],drop_first=True,prefix='ZIP'),\n",
        "                pd.get_dummies(df['state'],drop_first=True,prefix='STATE')],\n",
        "               axis=1)"
      ],
      "execution_count": 40,
      "outputs": []
    },
    {
      "cell_type": "code",
      "metadata": {
        "id": "hyLjpXYByUuD",
        "colab_type": "code",
        "colab": {
          "base_uri": "https://localhost:8080/",
          "height": 121
        },
        "outputId": "fb1ff0a9-9396-459a-bbad-1d351edf5c92"
      },
      "source": [
        "df.columns"
      ],
      "execution_count": 41,
      "outputs": [
        {
          "output_type": "execute_result",
          "data": {
            "text/plain": [
              "Index(['loan_amnt', 'term', 'int_rate', 'installment', 'annual_inc', 'issue_d',\n",
              "       'loan_status', 'dti', 'earliest_cr_line', 'open_acc',\n",
              "       ...\n",
              "       'STATE_SD', 'STATE_TN', 'STATE_TX', 'STATE_UT', 'STATE_VA', 'STATE_VT',\n",
              "       'STATE_WA', 'STATE_WI', 'STATE_WV', 'STATE_WY'],\n",
              "      dtype='object', length=667)"
            ]
          },
          "metadata": {
            "tags": []
          },
          "execution_count": 41
        }
      ]
    },
    {
      "cell_type": "code",
      "metadata": {
        "id": "UDQJ8ZpMyUuF",
        "colab_type": "code",
        "colab": {
          "base_uri": "https://localhost:8080/",
          "height": 35
        },
        "outputId": "baface6f-d4de-4cf1-add9-bcbc873a6c9a"
      },
      "source": [
        "feat_info('issue_d')"
      ],
      "execution_count": 42,
      "outputs": [
        {
          "output_type": "stream",
          "text": [
            "The month which the loan was funded\n"
          ],
          "name": "stdout"
        }
      ]
    },
    {
      "cell_type": "markdown",
      "metadata": {
        "id": "Az-qaNujyUuL",
        "colab_type": "text"
      },
      "source": [
        "Using issue_d would be data leakage (when receiving the application, we don't know which if any month it will be issued in)."
      ]
    },
    {
      "cell_type": "code",
      "metadata": {
        "id": "H8sc0fK2yUuL",
        "colab_type": "code",
        "colab": {}
      },
      "source": [
        "df = df.drop('issue_d',axis=1)"
      ],
      "execution_count": 43,
      "outputs": []
    },
    {
      "cell_type": "code",
      "metadata": {
        "id": "E2KtsehRyUuO",
        "colab_type": "code",
        "colab": {
          "base_uri": "https://localhost:8080/",
          "height": 225
        },
        "outputId": "ba394163-d66a-40b1-d49f-1b8b579e032a"
      },
      "source": [
        "df['earliest_cr_line'].value_counts()"
      ],
      "execution_count": 44,
      "outputs": [
        {
          "output_type": "execute_result",
          "data": {
            "text/plain": [
              "Oct-2000    3013\n",
              "Aug-2000    2930\n",
              "Oct-2001    2890\n",
              "Aug-2001    2879\n",
              "Nov-2000    2729\n",
              "            ... \n",
              "Dec-1950       1\n",
              "Nov-1961       1\n",
              "Nov-1953       1\n",
              "Jan-1944       1\n",
              "Nov-1955       1\n",
              "Name: earliest_cr_line, Length: 684, dtype: int64"
            ]
          },
          "metadata": {
            "tags": []
          },
          "execution_count": 44
        }
      ]
    },
    {
      "cell_type": "markdown",
      "metadata": {
        "id": "HaqoXX5QyUuQ",
        "colab_type": "text"
      },
      "source": [
        "This is too many dummies. Let's just use the year as it may contain useful information."
      ]
    },
    {
      "cell_type": "code",
      "metadata": {
        "id": "3jzJgfuQyUuR",
        "colab_type": "code",
        "colab": {}
      },
      "source": [
        "df['earliest_cr_year'] = df['earliest_cr_line'].apply(lambda x: x[-4:])\n",
        "df.drop('earliest_cr_line',axis=1,inplace=True)\n",
        "df['earliest_cr_year'] = df['earliest_cr_year'].apply(int)"
      ],
      "execution_count": 45,
      "outputs": []
    },
    {
      "cell_type": "markdown",
      "metadata": {
        "id": "dUv_nt0JyUuU",
        "colab_type": "text"
      },
      "source": [
        "Drop loan_status as we've already converted it."
      ]
    },
    {
      "cell_type": "code",
      "metadata": {
        "id": "BwQQ9ZQyyUuU",
        "colab_type": "code",
        "colab": {}
      },
      "source": [
        "df.drop('loan_status',axis=1,inplace=True)"
      ],
      "execution_count": 46,
      "outputs": []
    },
    {
      "cell_type": "code",
      "metadata": {
        "id": "ddjnTTccyUuW",
        "colab_type": "code",
        "colab": {
          "base_uri": "https://localhost:8080/",
          "height": 52
        },
        "outputId": "1ab7de23-9b1f-4783-be85-66b63208c5ae"
      },
      "source": [
        "print(df.select_dtypes(include=object).columns)\n",
        "df.isnull().sum().sum()"
      ],
      "execution_count": 47,
      "outputs": [
        {
          "output_type": "stream",
          "text": [
            "Index([], dtype='object')\n"
          ],
          "name": "stdout"
        },
        {
          "output_type": "execute_result",
          "data": {
            "text/plain": [
              "0"
            ]
          },
          "metadata": {
            "tags": []
          },
          "execution_count": 47
        }
      ]
    },
    {
      "cell_type": "markdown",
      "metadata": {
        "id": "N6bAJIxlyUuZ",
        "colab_type": "text"
      },
      "source": [
        "Seems like the data is clean, we are ready to go!"
      ]
    },
    {
      "cell_type": "markdown",
      "metadata": {
        "id": "LANVKbw0yUua",
        "colab_type": "text"
      },
      "source": [
        "## Modeling"
      ]
    },
    {
      "cell_type": "code",
      "metadata": {
        "id": "P15ThH_yyUua",
        "colab_type": "code",
        "colab": {}
      },
      "source": [
        "from sklearn.model_selection import train_test_split"
      ],
      "execution_count": 48,
      "outputs": []
    },
    {
      "cell_type": "code",
      "metadata": {
        "id": "a8pFvoczyUue",
        "colab_type": "code",
        "colab": {}
      },
      "source": [
        "zip_cols = [column for column in df.columns if 'ZIP_' in column]\n",
        "state_cols = [column for column in df.columns if 'STATE_' in column]"
      ],
      "execution_count": 49,
      "outputs": []
    },
    {
      "cell_type": "code",
      "metadata": {
        "id": "bFcZEk2xyUug",
        "colab_type": "code",
        "colab": {}
      },
      "source": [
        "y = df['loan_repaid'].values\n",
        "X_zip = df.drop(['loan_repaid']+state_cols,axis=1).values\n",
        "X_state = df.drop(['loan_repaid']+zip_cols,axis=1).values\n",
        "X = df.drop(['loan_repaid']+state_cols+zip_cols,axis=1).values\n",
        "X_train, X_test, y_train, y_test = train_test_split(X, y, test_size=0.3, random_state=0)"
      ],
      "execution_count": 50,
      "outputs": []
    },
    {
      "cell_type": "markdown",
      "metadata": {
        "id": "JwIWeZFCyUun",
        "colab_type": "text"
      },
      "source": [
        "Let's look for outliers before deciding how to scale the data."
      ]
    },
    {
      "cell_type": "code",
      "metadata": {
        "id": "84ctArsiyUun",
        "colab_type": "code",
        "colab": {}
      },
      "source": [
        "non_dummy_columns = []\n",
        "for column in df.columns:\n",
        "    if ('ZIP_' in column) or ('STATE_' in column):\n",
        "        continue\n",
        "    for i in df[column][:100]:\n",
        "        if i not in [0,1]:\n",
        "            non_dummy_columns.append(column)\n",
        "            break"
      ],
      "execution_count": 51,
      "outputs": []
    },
    {
      "cell_type": "code",
      "metadata": {
        "id": "RyG9DcEIyUur",
        "colab_type": "code",
        "colab": {
          "base_uri": "https://localhost:8080/",
          "height": 478
        },
        "outputId": "c9af29d2-31e9-4795-af7e-dc2deb7f4935"
      },
      "source": [
        "pd.DataFrame(X_train, columns=df.drop(['loan_repaid']+state_cols+zip_cols,axis=1).columns)[non_dummy_columns].describe().transpose()"
      ],
      "execution_count": 52,
      "outputs": [
        {
          "output_type": "execute_result",
          "data": {
            "text/html": [
              "<div>\n",
              "<style scoped>\n",
              "    .dataframe tbody tr th:only-of-type {\n",
              "        vertical-align: middle;\n",
              "    }\n",
              "\n",
              "    .dataframe tbody tr th {\n",
              "        vertical-align: top;\n",
              "    }\n",
              "\n",
              "    .dataframe thead th {\n",
              "        text-align: right;\n",
              "    }\n",
              "</style>\n",
              "<table border=\"1\" class=\"dataframe\">\n",
              "  <thead>\n",
              "    <tr style=\"text-align: right;\">\n",
              "      <th></th>\n",
              "      <th>count</th>\n",
              "      <th>mean</th>\n",
              "      <th>std</th>\n",
              "      <th>min</th>\n",
              "      <th>25%</th>\n",
              "      <th>50%</th>\n",
              "      <th>75%</th>\n",
              "      <th>max</th>\n",
              "    </tr>\n",
              "  </thead>\n",
              "  <tbody>\n",
              "    <tr>\n",
              "      <th>loan_amnt</th>\n",
              "      <td>276653.0</td>\n",
              "      <td>14125.381525</td>\n",
              "      <td>8360.485279</td>\n",
              "      <td>500.00</td>\n",
              "      <td>8000.00</td>\n",
              "      <td>12000.00</td>\n",
              "      <td>20000.00</td>\n",
              "      <td>40000.00</td>\n",
              "    </tr>\n",
              "    <tr>\n",
              "      <th>term</th>\n",
              "      <td>276653.0</td>\n",
              "      <td>41.697303</td>\n",
              "      <td>10.211581</td>\n",
              "      <td>36.00</td>\n",
              "      <td>36.00</td>\n",
              "      <td>36.00</td>\n",
              "      <td>36.00</td>\n",
              "      <td>60.00</td>\n",
              "    </tr>\n",
              "    <tr>\n",
              "      <th>int_rate</th>\n",
              "      <td>276653.0</td>\n",
              "      <td>13.644266</td>\n",
              "      <td>4.475986</td>\n",
              "      <td>5.32</td>\n",
              "      <td>10.49</td>\n",
              "      <td>13.33</td>\n",
              "      <td>16.55</td>\n",
              "      <td>30.99</td>\n",
              "    </tr>\n",
              "    <tr>\n",
              "      <th>installment</th>\n",
              "      <td>276653.0</td>\n",
              "      <td>432.236352</td>\n",
              "      <td>250.795872</td>\n",
              "      <td>16.08</td>\n",
              "      <td>250.52</td>\n",
              "      <td>375.43</td>\n",
              "      <td>568.64</td>\n",
              "      <td>1527.00</td>\n",
              "    </tr>\n",
              "    <tr>\n",
              "      <th>annual_inc</th>\n",
              "      <td>276653.0</td>\n",
              "      <td>74170.629765</td>\n",
              "      <td>60295.891230</td>\n",
              "      <td>0.00</td>\n",
              "      <td>45000.00</td>\n",
              "      <td>64000.00</td>\n",
              "      <td>90000.00</td>\n",
              "      <td>7600000.00</td>\n",
              "    </tr>\n",
              "    <tr>\n",
              "      <th>dti</th>\n",
              "      <td>276653.0</td>\n",
              "      <td>17.414082</td>\n",
              "      <td>20.880067</td>\n",
              "      <td>0.00</td>\n",
              "      <td>11.31</td>\n",
              "      <td>16.92</td>\n",
              "      <td>22.99</td>\n",
              "      <td>9999.00</td>\n",
              "    </tr>\n",
              "    <tr>\n",
              "      <th>open_acc</th>\n",
              "      <td>276653.0</td>\n",
              "      <td>11.315229</td>\n",
              "      <td>5.125051</td>\n",
              "      <td>1.00</td>\n",
              "      <td>8.00</td>\n",
              "      <td>10.00</td>\n",
              "      <td>14.00</td>\n",
              "      <td>90.00</td>\n",
              "    </tr>\n",
              "    <tr>\n",
              "      <th>pub_rec</th>\n",
              "      <td>276653.0</td>\n",
              "      <td>0.178111</td>\n",
              "      <td>0.517051</td>\n",
              "      <td>0.00</td>\n",
              "      <td>0.00</td>\n",
              "      <td>0.00</td>\n",
              "      <td>0.00</td>\n",
              "      <td>40.00</td>\n",
              "    </tr>\n",
              "    <tr>\n",
              "      <th>revol_bal</th>\n",
              "      <td>276653.0</td>\n",
              "      <td>15852.446353</td>\n",
              "      <td>20318.556497</td>\n",
              "      <td>0.00</td>\n",
              "      <td>6047.00</td>\n",
              "      <td>11210.00</td>\n",
              "      <td>19649.00</td>\n",
              "      <td>1190046.00</td>\n",
              "    </tr>\n",
              "    <tr>\n",
              "      <th>revol_util</th>\n",
              "      <td>276653.0</td>\n",
              "      <td>53.840737</td>\n",
              "      <td>24.390336</td>\n",
              "      <td>0.00</td>\n",
              "      <td>35.90</td>\n",
              "      <td>54.90</td>\n",
              "      <td>72.90</td>\n",
              "      <td>153.00</td>\n",
              "    </tr>\n",
              "    <tr>\n",
              "      <th>total_acc</th>\n",
              "      <td>276653.0</td>\n",
              "      <td>25.426502</td>\n",
              "      <td>11.855644</td>\n",
              "      <td>2.00</td>\n",
              "      <td>17.00</td>\n",
              "      <td>24.00</td>\n",
              "      <td>32.00</td>\n",
              "      <td>151.00</td>\n",
              "    </tr>\n",
              "    <tr>\n",
              "      <th>mort_acc</th>\n",
              "      <td>276653.0</td>\n",
              "      <td>1.784242</td>\n",
              "      <td>2.062972</td>\n",
              "      <td>0.00</td>\n",
              "      <td>0.00</td>\n",
              "      <td>1.00</td>\n",
              "      <td>3.00</td>\n",
              "      <td>34.00</td>\n",
              "    </tr>\n",
              "    <tr>\n",
              "      <th>pub_rec_bankruptcies</th>\n",
              "      <td>276653.0</td>\n",
              "      <td>0.122120</td>\n",
              "      <td>0.357132</td>\n",
              "      <td>0.00</td>\n",
              "      <td>0.00</td>\n",
              "      <td>0.00</td>\n",
              "      <td>0.00</td>\n",
              "      <td>8.00</td>\n",
              "    </tr>\n",
              "    <tr>\n",
              "      <th>earliest_cr_year</th>\n",
              "      <td>276653.0</td>\n",
              "      <td>1997.865293</td>\n",
              "      <td>7.197654</td>\n",
              "      <td>1944.00</td>\n",
              "      <td>1994.00</td>\n",
              "      <td>1999.00</td>\n",
              "      <td>2003.00</td>\n",
              "      <td>2013.00</td>\n",
              "    </tr>\n",
              "  </tbody>\n",
              "</table>\n",
              "</div>"
            ],
            "text/plain": [
              "                         count          mean  ...       75%         max\n",
              "loan_amnt             276653.0  14125.381525  ...  20000.00    40000.00\n",
              "term                  276653.0     41.697303  ...     36.00       60.00\n",
              "int_rate              276653.0     13.644266  ...     16.55       30.99\n",
              "installment           276653.0    432.236352  ...    568.64     1527.00\n",
              "annual_inc            276653.0  74170.629765  ...  90000.00  7600000.00\n",
              "dti                   276653.0     17.414082  ...     22.99     9999.00\n",
              "open_acc              276653.0     11.315229  ...     14.00       90.00\n",
              "pub_rec               276653.0      0.178111  ...      0.00       40.00\n",
              "revol_bal             276653.0  15852.446353  ...  19649.00  1190046.00\n",
              "revol_util            276653.0     53.840737  ...     72.90      153.00\n",
              "total_acc             276653.0     25.426502  ...     32.00      151.00\n",
              "mort_acc              276653.0      1.784242  ...      3.00       34.00\n",
              "pub_rec_bankruptcies  276653.0      0.122120  ...      0.00        8.00\n",
              "earliest_cr_year      276653.0   1997.865293  ...   2003.00     2013.00\n",
              "\n",
              "[14 rows x 8 columns]"
            ]
          },
          "metadata": {
            "tags": []
          },
          "execution_count": 52
        }
      ]
    },
    {
      "cell_type": "markdown",
      "metadata": {
        "id": "6sQrgiz2yUuw",
        "colab_type": "text"
      },
      "source": [
        "Some features contain outliers. Let's use RobustScaler to make the interquartile range equal 1, without dropping the outliers."
      ]
    },
    {
      "cell_type": "code",
      "metadata": {
        "id": "RWVFkvRSyUuw",
        "colab_type": "code",
        "colab": {}
      },
      "source": [
        "from sklearn.preprocessing import RobustScaler"
      ],
      "execution_count": 53,
      "outputs": []
    },
    {
      "cell_type": "code",
      "metadata": {
        "id": "mSkxPh8uyUu1",
        "colab_type": "code",
        "colab": {}
      },
      "source": [
        "scaler = RobustScaler()\n",
        "X_train = scaler.fit_transform(X_train)"
      ],
      "execution_count": 54,
      "outputs": []
    },
    {
      "cell_type": "code",
      "metadata": {
        "id": "hzQPPfPQyUu3",
        "colab_type": "code",
        "colab": {
          "base_uri": "https://localhost:8080/",
          "height": 478
        },
        "outputId": "b4c5886c-3879-4158-fd25-a1d9eeb24ee1"
      },
      "source": [
        "pd.DataFrame(X_train, columns=df.drop(['loan_repaid']+state_cols+zip_cols,axis=1).columns)[non_dummy_columns].describe().transpose()"
      ],
      "execution_count": 55,
      "outputs": [
        {
          "output_type": "execute_result",
          "data": {
            "text/html": [
              "<div>\n",
              "<style scoped>\n",
              "    .dataframe tbody tr th:only-of-type {\n",
              "        vertical-align: middle;\n",
              "    }\n",
              "\n",
              "    .dataframe tbody tr th {\n",
              "        vertical-align: top;\n",
              "    }\n",
              "\n",
              "    .dataframe thead th {\n",
              "        text-align: right;\n",
              "    }\n",
              "</style>\n",
              "<table border=\"1\" class=\"dataframe\">\n",
              "  <thead>\n",
              "    <tr style=\"text-align: right;\">\n",
              "      <th></th>\n",
              "      <th>count</th>\n",
              "      <th>mean</th>\n",
              "      <th>std</th>\n",
              "      <th>min</th>\n",
              "      <th>25%</th>\n",
              "      <th>50%</th>\n",
              "      <th>75%</th>\n",
              "      <th>max</th>\n",
              "    </tr>\n",
              "  </thead>\n",
              "  <tbody>\n",
              "    <tr>\n",
              "      <th>loan_amnt</th>\n",
              "      <td>276653.0</td>\n",
              "      <td>0.177115</td>\n",
              "      <td>0.696707</td>\n",
              "      <td>-0.958333</td>\n",
              "      <td>-0.333333</td>\n",
              "      <td>0.0</td>\n",
              "      <td>0.666667</td>\n",
              "      <td>2.333333</td>\n",
              "    </tr>\n",
              "    <tr>\n",
              "      <th>term</th>\n",
              "      <td>276653.0</td>\n",
              "      <td>5.697303</td>\n",
              "      <td>10.211581</td>\n",
              "      <td>0.000000</td>\n",
              "      <td>0.000000</td>\n",
              "      <td>0.0</td>\n",
              "      <td>0.000000</td>\n",
              "      <td>24.000000</td>\n",
              "    </tr>\n",
              "    <tr>\n",
              "      <th>int_rate</th>\n",
              "      <td>276653.0</td>\n",
              "      <td>0.051859</td>\n",
              "      <td>0.738611</td>\n",
              "      <td>-1.321782</td>\n",
              "      <td>-0.468647</td>\n",
              "      <td>0.0</td>\n",
              "      <td>0.531353</td>\n",
              "      <td>2.914191</td>\n",
              "    </tr>\n",
              "    <tr>\n",
              "      <th>installment</th>\n",
              "      <td>276653.0</td>\n",
              "      <td>0.178569</td>\n",
              "      <td>0.788369</td>\n",
              "      <td>-1.129605</td>\n",
              "      <td>-0.392651</td>\n",
              "      <td>0.0</td>\n",
              "      <td>0.607349</td>\n",
              "      <td>3.619923</td>\n",
              "    </tr>\n",
              "    <tr>\n",
              "      <th>annual_inc</th>\n",
              "      <td>276653.0</td>\n",
              "      <td>0.226014</td>\n",
              "      <td>1.339909</td>\n",
              "      <td>-1.422222</td>\n",
              "      <td>-0.422222</td>\n",
              "      <td>0.0</td>\n",
              "      <td>0.577778</td>\n",
              "      <td>167.466667</td>\n",
              "    </tr>\n",
              "    <tr>\n",
              "      <th>dti</th>\n",
              "      <td>276653.0</td>\n",
              "      <td>0.042302</td>\n",
              "      <td>1.787677</td>\n",
              "      <td>-1.448630</td>\n",
              "      <td>-0.480308</td>\n",
              "      <td>0.0</td>\n",
              "      <td>0.519692</td>\n",
              "      <td>854.630137</td>\n",
              "    </tr>\n",
              "    <tr>\n",
              "      <th>open_acc</th>\n",
              "      <td>276653.0</td>\n",
              "      <td>0.219205</td>\n",
              "      <td>0.854175</td>\n",
              "      <td>-1.500000</td>\n",
              "      <td>-0.333333</td>\n",
              "      <td>0.0</td>\n",
              "      <td>0.666667</td>\n",
              "      <td>13.333333</td>\n",
              "    </tr>\n",
              "    <tr>\n",
              "      <th>pub_rec</th>\n",
              "      <td>276653.0</td>\n",
              "      <td>0.178111</td>\n",
              "      <td>0.517051</td>\n",
              "      <td>0.000000</td>\n",
              "      <td>0.000000</td>\n",
              "      <td>0.0</td>\n",
              "      <td>0.000000</td>\n",
              "      <td>40.000000</td>\n",
              "    </tr>\n",
              "    <tr>\n",
              "      <th>revol_bal</th>\n",
              "      <td>276653.0</td>\n",
              "      <td>0.341306</td>\n",
              "      <td>1.493792</td>\n",
              "      <td>-0.824144</td>\n",
              "      <td>-0.379577</td>\n",
              "      <td>0.0</td>\n",
              "      <td>0.620423</td>\n",
              "      <td>86.666373</td>\n",
              "    </tr>\n",
              "    <tr>\n",
              "      <th>revol_util</th>\n",
              "      <td>276653.0</td>\n",
              "      <td>-0.028629</td>\n",
              "      <td>0.659198</td>\n",
              "      <td>-1.483784</td>\n",
              "      <td>-0.513514</td>\n",
              "      <td>0.0</td>\n",
              "      <td>0.486486</td>\n",
              "      <td>2.651351</td>\n",
              "    </tr>\n",
              "    <tr>\n",
              "      <th>total_acc</th>\n",
              "      <td>276653.0</td>\n",
              "      <td>0.095100</td>\n",
              "      <td>0.790376</td>\n",
              "      <td>-1.466667</td>\n",
              "      <td>-0.466667</td>\n",
              "      <td>0.0</td>\n",
              "      <td>0.533333</td>\n",
              "      <td>8.466667</td>\n",
              "    </tr>\n",
              "    <tr>\n",
              "      <th>mort_acc</th>\n",
              "      <td>276653.0</td>\n",
              "      <td>0.261414</td>\n",
              "      <td>0.687657</td>\n",
              "      <td>-0.333333</td>\n",
              "      <td>-0.333333</td>\n",
              "      <td>0.0</td>\n",
              "      <td>0.666667</td>\n",
              "      <td>11.000000</td>\n",
              "    </tr>\n",
              "    <tr>\n",
              "      <th>pub_rec_bankruptcies</th>\n",
              "      <td>276653.0</td>\n",
              "      <td>0.122120</td>\n",
              "      <td>0.357132</td>\n",
              "      <td>0.000000</td>\n",
              "      <td>0.000000</td>\n",
              "      <td>0.0</td>\n",
              "      <td>0.000000</td>\n",
              "      <td>8.000000</td>\n",
              "    </tr>\n",
              "    <tr>\n",
              "      <th>earliest_cr_year</th>\n",
              "      <td>276653.0</td>\n",
              "      <td>-0.126079</td>\n",
              "      <td>0.799739</td>\n",
              "      <td>-6.111111</td>\n",
              "      <td>-0.555556</td>\n",
              "      <td>0.0</td>\n",
              "      <td>0.444444</td>\n",
              "      <td>1.555556</td>\n",
              "    </tr>\n",
              "  </tbody>\n",
              "</table>\n",
              "</div>"
            ],
            "text/plain": [
              "                         count      mean        std  ...  50%       75%         max\n",
              "loan_amnt             276653.0  0.177115   0.696707  ...  0.0  0.666667    2.333333\n",
              "term                  276653.0  5.697303  10.211581  ...  0.0  0.000000   24.000000\n",
              "int_rate              276653.0  0.051859   0.738611  ...  0.0  0.531353    2.914191\n",
              "installment           276653.0  0.178569   0.788369  ...  0.0  0.607349    3.619923\n",
              "annual_inc            276653.0  0.226014   1.339909  ...  0.0  0.577778  167.466667\n",
              "dti                   276653.0  0.042302   1.787677  ...  0.0  0.519692  854.630137\n",
              "open_acc              276653.0  0.219205   0.854175  ...  0.0  0.666667   13.333333\n",
              "pub_rec               276653.0  0.178111   0.517051  ...  0.0  0.000000   40.000000\n",
              "revol_bal             276653.0  0.341306   1.493792  ...  0.0  0.620423   86.666373\n",
              "revol_util            276653.0 -0.028629   0.659198  ...  0.0  0.486486    2.651351\n",
              "total_acc             276653.0  0.095100   0.790376  ...  0.0  0.533333    8.466667\n",
              "mort_acc              276653.0  0.261414   0.687657  ...  0.0  0.666667   11.000000\n",
              "pub_rec_bankruptcies  276653.0  0.122120   0.357132  ...  0.0  0.000000    8.000000\n",
              "earliest_cr_year      276653.0 -0.126079   0.799739  ...  0.0  0.444444    1.555556\n",
              "\n",
              "[14 rows x 8 columns]"
            ]
          },
          "metadata": {
            "tags": []
          },
          "execution_count": 55
        }
      ]
    },
    {
      "cell_type": "markdown",
      "metadata": {
        "id": "OjHlZu8hVTVh",
        "colab_type": "text"
      },
      "source": [
        "Want to be able to choose whether to drop location data, use states or use ZIP codes."
      ]
    },
    {
      "cell_type": "code",
      "metadata": {
        "id": "x2w9PS0yM_AY",
        "colab_type": "code",
        "colab": {}
      },
      "source": [
        "def set_location(option):\n",
        "  global X_train, X_test, Y_train, Y_test\n",
        "  scaler = RobustScaler()\n",
        "\n",
        "  if option=='base':\n",
        "    X_train, X_test, y_train, y_test = train_test_split(X, y, test_size=0.3, random_state=0)\n",
        "  if option=='state':\n",
        "    X_train, X_test, y_train, y_test = train_test_split(X_state, y, test_size=0.3, random_state=0)\n",
        "  if option=='zip':\n",
        "    X_train, X_test, y_train, y_test = train_test_split(X_zip, y, test_size=0.3, random_state=0)\n",
        "\n",
        "  X_train = scaler.fit_transform(X_train)\n",
        "  X_test = scaler.transform(X_test)"
      ],
      "execution_count": 56,
      "outputs": []
    },
    {
      "cell_type": "code",
      "metadata": {
        "id": "GtkC6QijyUu-",
        "colab_type": "code",
        "colab": {}
      },
      "source": [
        "from sklearn.ensemble import RandomForestClassifier\n",
        "from sklearn.model_selection import GridSearchCV\n",
        "from sklearn.metrics import confusion_matrix,classification_report\n",
        "\n",
        "import tensorflow as tf\n",
        "from tensorflow.keras.models import Sequential\n",
        "from tensorflow.keras.layers import Dense,Dropout"
      ],
      "execution_count": 57,
      "outputs": []
    },
    {
      "cell_type": "markdown",
      "metadata": {
        "id": "BjJ_93o3VlFH",
        "colab_type": "text"
      },
      "source": [
        "A random forest model."
      ]
    },
    {
      "cell_type": "code",
      "metadata": {
        "id": "AI9r2mXxJvoK",
        "colab_type": "code",
        "colab": {}
      },
      "source": [
        "def forest_base():\n",
        "  param_grid = {'max_features':[0.5],'max_depth':[5,10]}\n",
        "  grid = GridSearchCV(RandomForestClassifier(n_estimators=30,bootstrap=True,max_samples=1000,n_jobs=-1),param_grid,verbose=3)\n",
        "  grid.fit(X_train,y_train)\n",
        "  print(grid.best_params_)\n",
        "  preds = grid.predict(X_test)\n",
        "  print(classification_report(y_test,preds))"
      ],
      "execution_count": 58,
      "outputs": []
    },
    {
      "cell_type": "markdown",
      "metadata": {
        "id": "QczR7LUXVn4x",
        "colab_type": "text"
      },
      "source": [
        "A neural network."
      ]
    },
    {
      "cell_type": "code",
      "metadata": {
        "id": "rZHGuclHKfdY",
        "colab_type": "code",
        "colab": {}
      },
      "source": [
        "def nn_base():\n",
        "  model = Sequential()\n",
        "\n",
        "  model.add(Dense(78,  activation='relu'))\n",
        "  model.add(Dropout(0.2))\n",
        "\n",
        "  model.add(Dense(39, activation='relu'))\n",
        "  model.add(Dropout(0.2))\n",
        "\n",
        "  model.add(Dense(19, activation='relu'))\n",
        "  model.add(Dropout(0.2))\n",
        "\n",
        "  model.add(Dense(units=1,activation='sigmoid'))\n",
        "\n",
        "  model.compile(loss='binary_crossentropy', optimizer='adam')\n",
        "\n",
        "  model.fit(x=X_train, \n",
        "          y=y_train, \n",
        "          epochs=5,\n",
        "          batch_size=256,\n",
        "          validation_data=(X_test, y_test))\n",
        "  \n",
        "  losses = pd.DataFrame(model.history.history)\n",
        "  losses[['loss','val_loss']].plot()\n",
        "\n",
        "  preds = model.predict_classes(X_test)\n",
        "  print(classification_report(y_test,preds))\n",
        "  print(confusion_matrix(y_test,preds))"
      ],
      "execution_count": 59,
      "outputs": []
    },
    {
      "cell_type": "code",
      "metadata": {
        "id": "VvR6N5deTvAD",
        "colab_type": "code",
        "colab": {
          "base_uri": "https://localhost:8080/",
          "height": 701
        },
        "outputId": "a5a7ff5a-f1e1-459d-becd-6a95eab0ad02"
      },
      "source": [
        "set_location('zip')\n",
        "nn_base()"
      ],
      "execution_count": 60,
      "outputs": [
        {
          "output_type": "stream",
          "text": [
            "Epoch 1/5\n",
            "1081/1081 [==============================] - 6s 6ms/step - loss: 0.3325 - val_loss: 0.2649\n",
            "Epoch 2/5\n",
            "1081/1081 [==============================] - 6s 5ms/step - loss: 0.2659 - val_loss: 0.2623\n",
            "Epoch 3/5\n",
            "1081/1081 [==============================] - 6s 6ms/step - loss: 0.2610 - val_loss: 0.2603\n",
            "Epoch 4/5\n",
            "1081/1081 [==============================] - 6s 6ms/step - loss: 0.2581 - val_loss: 0.2603\n",
            "Epoch 5/5\n",
            "1081/1081 [==============================] - 9s 8ms/step - loss: 0.2566 - val_loss: 0.2614\n",
            "WARNING:tensorflow:From <ipython-input-59-b5b58d2c8146>:26: Sequential.predict_classes (from tensorflow.python.keras.engine.sequential) is deprecated and will be removed after 2021-01-01.\n",
            "Instructions for updating:\n",
            "Please use instead:* `np.argmax(model.predict(x), axis=-1)`,   if your model does multi-class classification   (e.g. if it uses a `softmax` last-layer activation).* `(model.predict(x) > 0.5).astype(\"int32\")`,   if your model does binary classification   (e.g. if it uses a `sigmoid` last-layer activation).\n",
            "              precision    recall  f1-score   support\n",
            "\n",
            "           0       0.95      0.45      0.61     23343\n",
            "           1       0.88      0.99      0.93     95223\n",
            "\n",
            "    accuracy                           0.89    118566\n",
            "   macro avg       0.91      0.72      0.77    118566\n",
            "weighted avg       0.89      0.89      0.87    118566\n",
            "\n",
            "[[10592 12751]\n",
            " [  579 94644]]\n"
          ],
          "name": "stdout"
        },
        {
          "output_type": "display_data",
          "data": {
            "image/png": "[encoded data removed]",
            "text/plain": [
              "<Figure size 432x288 with 1 Axes>"
            ]
          },
          "metadata": {
            "tags": [],
            "needs_background": "light"
          }
        }
      ]
    },
    {
      "cell_type": "markdown",
      "metadata": {
        "id": "25YacbpKVreO",
        "colab_type": "text"
      },
      "source": [
        "If this model was used, giving out ~37k loans that would default could have been prevented at the cost of not giving out ~4.4k loans that would have been repaid (assuming training data existed). This would have saved a lot of money and is a remarkable result since which loans were approved and which were rejected must have already depended on someone's judgement about credit quality."
      ]
    }
  ]
}